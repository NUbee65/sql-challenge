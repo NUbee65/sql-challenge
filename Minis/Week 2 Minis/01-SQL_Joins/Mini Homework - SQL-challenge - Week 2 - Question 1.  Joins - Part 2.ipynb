{
 "cells": [
  {
   "cell_type": "markdown",
   "metadata": {},
   "source": [
    "## Part 2 of Question 1. SQL Joins\n",
    "\n",
    "* Consider the following tables:\n",
    "\n",
    "* vendor_table\n",
    "  ![vendor_table.png](Images/vendor_table.png)\n",
    "\n",
    "* yarn_table\n",
    "  ![yarn_table.png](Images/yarn_table.png)\n",
    "\n",
    "* Which join was used to create the final view below?\n",
    "\n",
    "  ![table_join.png](Images/table_join.png)"
   ]
  },
  {
   "cell_type": "markdown",
   "metadata": {},
   "source": [
    "## Observations:\n",
    "\n",
    "### Vendor Table (Left)\n",
    "* 3 column names = id (unique), vendor_name, vendor country\n",
    "* 4 rows each with a unique vendor_name (unique at least in this table)\n",
    "\n",
    "### Yarn Table (Right)\n",
    "* 8 column names = id (unique), yarn_name, yarn_type, vendor_id, and 4 others (tech detail)\n",
    "* 4 rows of unique yarns\n",
    "* The vendor_id column has 1 value that repeats (the value 2 is found in 2 rows)\n",
    "* In fact, 3 unique vendor_id values are found in the 4 rows\n",
    "\n",
    "### The Final Merged Table (\"final view\")\n",
    "* 4 column names = vendor_name, vendor_country, yarn_name, yarn_type\n",
    "* 5 rows with a single vendor name (Cascade Yarns) repeated twice in the vendor_name column, corresponding to two diferent yarns produced by the same manufacturer\n",
    "* Shows Null values for yarn_name and yarn_type for the one vendor whose vendor_id did not appear in the Yarn Table (Right)\n",
    "* Shows all of the vendor_name values found in the Vendor Table (Left)\n",
    "* Shows 2 instances of the same vendor_name value, Cascade Farms\n",
    "\t* Cascade Yarns' id in the Vendor Table (Left) is the value 2\n",
    "\t* As we pointed out previously, in the Yarn Table, the vendor_id value is 2\n",
    "\n",
    "### Reasons the Final Merged Table (\"final view\") was created with either a FULL JOIN or a LEFT JOIN\n",
    "1. It explains why \n",
    "\t* All 4 vendors in the Vendor Table (Left) are included in the final view\n",
    "\t* All 4 yarn_name values in the Yarn Table (Right) are included in the final view\n",
    "\t* Why one vendor (Tahki/Greece) record lists Null values for the yarn_name and yarn_type columns\n",
    "\t* Why one vendor (Cascade Yarns/US) is listed twice for different yarns (Cartwheel, Heritage)\n",
    "2. The ON key is the Vendor Table's (Left) id column (unique values/primary key) and the Yarn Table's (Right) vendor_id column (value 2 appears twice).  We also observe that the Yarn Table has its own id column (unique values/primary key).  \n",
    "3. Since all of the vendor_id values in the Yarn Table (Right) are found in the Vendor Table (Left), the vendor_id column in the Yarn Table (Right) is almost certainly a foreign key that is a child of the id column (primary key) in the Vendor Table (Left).\n",
    "4. In a LEFT JOIN all rows from the Left Table are preserved while rows from the Right Table are preserved only if there is a match. In a FULL JOIN all rows from both the Left Table and the Right Table are preserved, match or no match.  Both can explain the Final Merged Table (\"final view).\n",
    "\t* All vendor_name values from the Left Table are found in the Final Merged Table (\"final view\").  The vendor Tahki would not have been included in the case in a RIGHT JOIN or an INNER JOIN since it's vendor_id is not found in the Right Table.\n",
    "\t* Had there been a vendor_id column value in the Yarn Table (Right Table) not found in the id column in the Vendor Table (Left Table), and had that value (and corresponding record/row) not shown up in the Final Merged Table (\"final view\"), then we would know that it had been exclusively a LEFT JOIN and not a FULL JOIN, as a FULL JOIN would have shown a Null value in the vendor_name column of the Final Merged Table (\"final view\").  (It would have also meant that there was no constrained parent-child relationship between the tables."
   ]
  },
  {
   "cell_type": "code",
   "execution_count": null,
   "metadata": {},
   "outputs": [],
   "source": []
  }
 ],
 "metadata": {
  "kernelspec": {
   "display_name": "Python 3",
   "language": "python",
   "name": "python3"
  },
  "language_info": {
   "codemirror_mode": {
    "name": "ipython",
    "version": 3
   },
   "file_extension": ".py",
   "mimetype": "text/x-python",
   "name": "python",
   "nbconvert_exporter": "python",
   "pygments_lexer": "ipython3",
   "version": "3.8.5"
  }
 },
 "nbformat": 4,
 "nbformat_minor": 4
}
