{
 "cells": [
  {
   "cell_type": "markdown",
   "metadata": {},
   "source": [
    "# Mini Homework - SQL-challenge - Week 2 - Question 4. Duplicates\n",
    "\n",
    "## Part 1\n",
    "\n",
    "* How do you locate a duplicate record with one field? Using the table below, write a query to demonstrate.\n",
    "\n",
    "  * Yarn table with duplicates:\n",
    "\n",
    "    ![duplicated_yarn.png](Images/duplicated_yarn.png)\n",
    "\n",
    "## Part 2\n",
    "\n",
    "* How do you find duplicate records using more than one field? Using the table from Part 1, write a query to demonstrate."
   ]
  },
  {
   "cell_type": "markdown",
   "metadata": {},
   "source": [
    "### Part 1 and Part 2 answers in file:\n",
    "* Mini Homework - SQL-challenge - Week 2 - Question 4. Duplicates.sql"
   ]
  },
  {
   "cell_type": "code",
   "execution_count": null,
   "metadata": {},
   "outputs": [],
   "source": []
  }
 ],
 "metadata": {
  "kernelspec": {
   "display_name": "Python 3",
   "language": "python",
   "name": "python3"
  },
  "language_info": {
   "codemirror_mode": {
    "name": "ipython",
    "version": 3
   },
   "file_extension": ".py",
   "mimetype": "text/x-python",
   "name": "python",
   "nbconvert_exporter": "python",
   "pygments_lexer": "ipython3",
   "version": "3.8.5"
  }
 },
 "nbformat": 4,
 "nbformat_minor": 4
}
