{
 "cells": [
  {
   "cell_type": "markdown",
   "metadata": {},
   "source": [
    "# Mini Homework - SQL-challenge - Week 2 - Question 3. DML & DDL\n",
    "\n",
    "## Part 1\n",
    "\n",
    "* What is the difference between `DML` and `DDL` in SQL?\n",
    "\n",
    "## Part 2\n",
    "\n",
    "* Demonstrate a use of `DML` in the following table:\n",
    "\n",
    "  * vendor_table\n",
    "    ![vendor_table](Images/vendor_table.png)"
   ]
  },
  {
   "cell_type": "code",
   "execution_count": null,
   "metadata": {},
   "outputs": [],
   "source": []
  }
 ],
 "metadata": {
  "kernelspec": {
   "display_name": "Python 3",
   "language": "python",
   "name": "python3"
  },
  "language_info": {
   "codemirror_mode": {
    "name": "ipython",
    "version": 3
   },
   "file_extension": ".py",
   "mimetype": "text/x-python",
   "name": "python",
   "nbconvert_exporter": "python",
   "pygments_lexer": "ipython3",
   "version": "3.8.5"
  }
 },
 "nbformat": 4,
 "nbformat_minor": 4
}
