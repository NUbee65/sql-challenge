{
 "cells": [
  {
   "cell_type": "markdown",
   "metadata": {},
   "source": [
    "# Mini Homework - SQL-challenge - Week 2 - Question 2. Alter vs. Update\n",
    "\n",
    "\n",
    "### Part 1\n",
    "\n",
    "* Explain the difference between `alter` and `update` in SQL statements.\n",
    "\n",
    "### Part 2\n",
    "\n",
    "* You are given the following table:\n",
    "\n",
    "  ![Images/alter_update01.png](Images/alter_update01.png)\n",
    "\n",
    "* Change the name of the column from `department_id` to `dept_id`.\n",
    "\n",
    "* Add a column named `annual_salary` to the table.\n"
   ]
  },
  {
   "cell_type": "markdown",
   "metadata": {},
   "source": [
    "## Answer to Question 2. Part 1.\n",
    "### First, there is a fundamental difference:\n",
    "* ALTER is a Data Definition Language (DDL) command\n",
    "* UPDATE is a Data Manipulation Lanaguage (DML) operator\n",
    "\n",
    "#### Details below, source GeeksForGeeks.org\n",
    "  ![Images/ALTER_v_UPDATE.jpg](Images/ALTER_v_UPDATE.jpg)"
   ]
  },
  {
   "cell_type": "code",
   "execution_count": null,
   "metadata": {},
   "outputs": [],
   "source": []
  }
 ],
 "metadata": {
  "kernelspec": {
   "display_name": "Python 3",
   "language": "python",
   "name": "python3"
  },
  "language_info": {
   "codemirror_mode": {
    "name": "ipython",
    "version": 3
   },
   "file_extension": ".py",
   "mimetype": "text/x-python",
   "name": "python",
   "nbconvert_exporter": "python",
   "pygments_lexer": "ipython3",
   "version": "3.8.5"
  }
 },
 "nbformat": 4,
 "nbformat_minor": 4
}
