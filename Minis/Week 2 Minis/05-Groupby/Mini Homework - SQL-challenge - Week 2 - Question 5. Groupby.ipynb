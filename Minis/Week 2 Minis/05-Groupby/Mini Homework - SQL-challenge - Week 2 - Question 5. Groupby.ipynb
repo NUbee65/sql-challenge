{
 "cells": [
  {
   "cell_type": "markdown",
   "metadata": {},
   "source": [
    "# Mini Homework - SQL-challenge - Week 2 - Question 5. Groupby, Don't Cry\n",
    "\n",
    "* The below are a pandas data frame preview and a query for the total duration (in seconds) of UFO sightings by state, respectively.\n",
    "\n",
    "  ![Images/grouby01.png](Images/groupby01.png)\n",
    "  \n",
    "  ![Images/grouby02.png](Images/groupby02.png)\n",
    "  \n",
    "* What is an equivalent SQL query? Instead of the sum, find the mean duration by state.\n"
   ]
  },
  {
   "cell_type": "markdown",
   "metadata": {},
   "source": [
    "### Question 5. Group By answers in file:\n",
    "* Mini Homework - SQL-challenge - Week 2 - Question 5. Groupby.sql"
   ]
  },
  {
   "cell_type": "code",
   "execution_count": null,
   "metadata": {},
   "outputs": [],
   "source": []
  }
 ],
 "metadata": {
  "kernelspec": {
   "display_name": "Python 3",
   "language": "python",
   "name": "python3"
  },
  "language_info": {
   "codemirror_mode": {
    "name": "ipython",
    "version": 3
   },
   "file_extension": ".py",
   "mimetype": "text/x-python",
   "name": "python",
   "nbconvert_exporter": "python",
   "pygments_lexer": "ipython3",
   "version": "3.8.5"
  }
 },
 "nbformat": 4,
 "nbformat_minor": 4
}
