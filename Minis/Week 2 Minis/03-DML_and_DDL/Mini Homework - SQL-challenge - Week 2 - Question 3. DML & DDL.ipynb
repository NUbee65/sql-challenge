{
 "cells": [
  {
   "cell_type": "markdown",
   "metadata": {},
   "source": [
    "# Mini Homework - SQL-challenge - Week 2 - Question 3. DML & DDL\n",
    "\n",
    "## Part 1\n",
    "\n",
    "* What is the difference between `DML` and `DDL` in SQL?\n",
    "\n",
    "## Part 2\n",
    "\n",
    "* Demonstrate a use of `DML` in the following table:\n",
    "\n",
    "  * vendor_table\n",
    "    ![vendor_table](Images/vendor_table.png)"
   ]
  },
  {
   "cell_type": "markdown",
   "metadata": {},
   "source": [
    "### Part 1. Answer\n",
    "\n",
    "DML v DDL\n",
    "![DMLvDDL2](Images/DML_v_DDL_1.png)"
   ]
  },
  {
   "cell_type": "markdown",
   "metadata": {},
   "source": [
    "**Data Definition Language (DDL)** is used to set how data should reside in the database.  Using DDL, one can create and modify database structures, including tables, column headings, data types, keys (primary and foreign), auto-generated ids, and other constraints (e.g, whether a cell may exist as a Null value).  These structures are also referred to as database schemas and descriptions.  When DDL is executed, any changes made to the database are automatically saved.  From what I observe, data analysts tend to think of DDL as more the data engineering side.  Examples:\n",
    "\n",
    "* CREATE – to create database and its objects like (table, index, views, store procedure, function and triggers).\n",
    "* ALTER – alters the structure of the existing database.\n",
    "* DROP – delete objects from the database.\n",
    "* TRUNCATE – remove all records from a table; also, all spaces allocated for the records are removed.\n",
    "* COMMENT – add comments to the data dictionary.\n",
    "* RENAME – rename an object.\n",
    "\n",
    "**Data Manipulation Language (DML)** is used for populating, adding, deleting, modifying, and retrieving data in a database.  DML \"operators\" don't change the data structure.  They don't define the data structure.  It does not auto-commit (automatically save any changes made); rather, the results of DML will only permanently modify the contents and structure of the database when they are followed by \"commit\" commands.  From what I observe, data analysts tend to think of DDL as more the data analysis side. Examples:\n",
    "\n",
    "* SELECT – retrieve data from one or more tables (some database experts set the SELECT command aside under the designation Data Retrieval Language (DRL))\n",
    "* INSERT – insert data into a table\n",
    "* UPDATE – updates existing data within a table\n",
    "* DELETE – delete all records from a table\n",
    "* JOIN – integrates data sets of tables on one or more intersectional columns of data (types: INNER, LEFT, RIGHT, FULL, etc.)\n",
    "* UPSERT – (fka \"MERGE\") when a row of data is added into a table, it will either update the row if it already exists or insert as a new row (INSERT INTO ON CONFLICT)\n",
    "* CALL – call a PL/SQL or Java subprogram\n",
    "* LOCK TABLE – concurrency control (although this operator seems like it might be considered DCL, it instead is listed as DML in my opinion because it is not macro-level)\n",
    "\n",
    "**Data Control Language (DCL)** tends to deal with roles, rights, permissions and macro-level referential integrity controls of the database system.  It does not auto-commit (automatically save any changes made); rather, the results of DML will only permanently modify the contents and structure of the database when they are followed by \"commit\" commands. Examples:\n",
    "\n",
    "* GRANT – allow users access privileges to database.\n",
    "* REVOKE – withdraw users access privileges given by using the GRANT command.\n",
    "\n",
    "**Transaction Control Language (TCL)** deals with transactions within a database.  Transactions represent a particular type of unit of work in a database that allow correct recovery from failures and keep a database consistent even in cases of system failure, when execution stops (completely or partially) and many operations upon a database remain uncompleted.  Transactions act as a sort of \"traffic cop\" that prevents errors from occurring due to different programs or users accessing a database concurrently by virtue of imposing a provide a logical architecture to deal with this complexity.  Transactions are critical and foundational to databases used in operations and applications (OLTP).  From a data analyst perspect (databases used for analysis, OLAP), using transactions can serve as a useful save point, allowing data analysts to more easiliy revert back to the last known good point.  This can help if a logical operation is long and complex.  It's part of a coding methodology that chunks code, allowing better verification and validation and easier debugging.  Examples:\n",
    "\n",
    "* COMMIT – saves whatever the current point is in the processing of a transaction.\n",
    "* ROLLBACK – restores the database to the database's last committed state, which is crucial in case of any error occurring in a subsequent transaction\n",
    "* SAVEPOINT – temporarily saves the state of a transaction in process as a \"savepoint\", which allows one to rollback to the exact state in which the transaction was at the time the savepoint occurred.\n",
    "* SET TRANSACTION – specify name and characteristics (e.g., read only or read write) for the transaction; also used to initiate a database transaction"
   ]
  },
  {
   "cell_type": "markdown",
   "metadata": {},
   "source": [
    "### Part 2. Answer\n",
    "\n",
    "Our work demonstrating use of DML in the table can be found in the file:\n",
    "* Mini Homework - SQL-challenge - Week 2 - Question 3. DML & DDL.sql\n",
    "\n",
    "Once we had recreated two tables depicted in the image set provided (\"vendors\" table and \"yarns\" table, we then provided examples using some of the commands that fall under the DML domain.\n",
    "* INSERT – we populated the recreated tables with data exactly as depicted\n",
    "* SELECT – we retrieved each table and their data (sequentially)\n",
    "* JOIN – we used a LEFT JOIN to join the tables on the vendor id (v.id and y.vendor_id) and filtered to return only 4 columns of data\n",
    "* INSERT – we added a new record (row) of data to the yarns table\n",
    "* UPDATE – we updated the vendor_id data on the new record\n",
    "* DELETE - we deleted the recently added record (row)\n",
    "* UPSERT – we then used a single operator to simultaneously upate one record and add another record (2 yarns from the same vendor)"
   ]
  },
  {
   "cell_type": "code",
   "execution_count": null,
   "metadata": {},
   "outputs": [],
   "source": []
  }
 ],
 "metadata": {
  "kernelspec": {
   "display_name": "Python 3",
   "language": "python",
   "name": "python3"
  },
  "language_info": {
   "codemirror_mode": {
    "name": "ipython",
    "version": 3
   },
   "file_extension": ".py",
   "mimetype": "text/x-python",
   "name": "python",
   "nbconvert_exporter": "python",
   "pygments_lexer": "ipython3",
   "version": "3.8.5"
  }
 },
 "nbformat": 4,
 "nbformat_minor": 4
}
